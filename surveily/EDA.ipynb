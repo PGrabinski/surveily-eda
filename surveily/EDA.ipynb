{
 "cells": [
  {
   "cell_type": "code",
   "execution_count": 1,
   "id": "f835c271-3151-44b3-9c06-e7a8e06ed85f",
   "metadata": {},
   "outputs": [],
   "source": [
    "%load_ext autoreload\n",
    "%autoreload 2"
   ]
  },
  {
   "cell_type": "code",
   "execution_count": 2,
   "id": "05153f44-bb6c-4e47-a311-8483c440489a",
   "metadata": {},
   "outputs": [],
   "source": [
    "import cv2"
   ]
  },
  {
   "cell_type": "code",
   "execution_count": 3,
   "id": "d88034d9-4c2d-4360-a49e-30a69bc9b18a",
   "metadata": {},
   "outputs": [],
   "source": [
    "train_path = '/dataset/train'"
   ]
  },
  {
   "cell_type": "code",
   "execution_count": null,
   "id": "2cf95f3a-193f-42e7-b0c1-1e1cb9438729",
   "metadata": {},
   "outputs": [],
   "source": []
  }
 ],
 "metadata": {
  "kernelspec": {
   "display_name": "Python 3 (ipykernel)",
   "language": "python",
   "name": "python3"
  },
  "language_info": {
   "codemirror_mode": {
    "name": "ipython",
    "version": 3
   },
   "file_extension": ".py",
   "mimetype": "text/x-python",
   "name": "python",
   "nbconvert_exporter": "python",
   "pygments_lexer": "ipython3",
   "version": "3.10.4"
  }
 },
 "nbformat": 4,
 "nbformat_minor": 5
}
