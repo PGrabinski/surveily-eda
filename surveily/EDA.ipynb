{
 "cells": [
  {
   "cell_type": "markdown",
   "id": "fe40cfc4-089b-42ad-9259-810e631332d6",
   "metadata": {},
   "source": [
    "# Personal Protective Equipment Dataset Explorative Data Analysis"
   ]
  },
  {
   "cell_type": "markdown",
   "id": "bed46b96-a4cc-4e80-a193-e44716a8fe6c",
   "metadata": {},
   "source": [
    "## Imports and data loading"
   ]
  },
  {
   "cell_type": "markdown",
   "id": "090f9f3f-5b38-4c3b-9cea-3223222dab91",
   "metadata": {},
   "source": [
    "### Imports and paths"
   ]
  },
  {
   "cell_type": "code",
   "execution_count": 1,
   "id": "f835c271-3151-44b3-9c06-e7a8e06ed85f",
   "metadata": {},
   "outputs": [],
   "source": [
    "%load_ext autoreload\n",
    "%autoreload 2"
   ]
  },
  {
   "cell_type": "code",
   "execution_count": 2,
   "id": "05153f44-bb6c-4e47-a311-8483c440489a",
   "metadata": {},
   "outputs": [],
   "source": [
    "import cv2\n",
    "import pandas as pd\n",
    "import os\n",
    "import matplotlib.pyplot as plt"
   ]
  },
  {
   "cell_type": "code",
   "execution_count": 3,
   "id": "d88034d9-4c2d-4360-a49e-30a69bc9b18a",
   "metadata": {},
   "outputs": [],
   "source": [
    "train_path = '/dataset/train'"
   ]
  },
  {
   "cell_type": "code",
   "execution_count": 4,
   "id": "9fe9611b-9b15-43d7-997e-2eba07f1bddc",
   "metadata": {},
   "outputs": [
    {
     "name": "stdout",
     "output_type": "stream",
     "text": [
      "/Users/pawelgrabinski/Documents/Pet/surveily/surveily\n",
      "/Users/pawelgrabinski/Documents/Pet/surveily\n"
     ]
    }
   ],
   "source": [
    "print(os.getcwd())\n",
    "os.chdir('..')\n",
    "print(os.getcwd())"
   ]
  },
  {
   "cell_type": "markdown",
   "id": "db2f435b-70af-4d69-b995-888715218d01",
   "metadata": {},
   "source": [
    "### Loading image data"
   ]
  },
  {
   "cell_type": "code",
   "execution_count": 5,
   "id": "2cf95f3a-193f-42e7-b0c1-1e1cb9438729",
   "metadata": {},
   "outputs": [],
   "source": [
    "image_data = []\n",
    "path_to_train_images = os.path.join(os.getcwd(), 'dataset/train/images')\n",
    "for image_path in os.listdir(path_to_train_images):\n",
    "    image_size = cv2.imread(os.path.join(path_to_train_images, image_path)).shape\n",
    "    image_data.append((image_path, image_size))"
   ]
  },
  {
   "cell_type": "code",
   "execution_count": 6,
   "id": "6693219c-cdc9-47a6-885e-2757979bb8d1",
   "metadata": {},
   "outputs": [],
   "source": [
    "image_df = pd.DataFrame(image_data, columns=['image_name', 'dimensions'])"
   ]
  },
  {
   "cell_type": "code",
   "execution_count": 7,
   "id": "93ecda02-d869-4519-98b9-92fb190c9aa5",
   "metadata": {},
   "outputs": [],
   "source": [
    "image_df = image_df.assign(height=image_df.dimensions.apply(lambda x: x[0]),\n",
    "                           width=image_df.dimensions.apply(lambda x: x[1]))"
   ]
  },
  {
   "cell_type": "code",
   "execution_count": 8,
   "id": "63ed6f0f-0254-40b7-90dd-3418911682cc",
   "metadata": {},
   "outputs": [],
   "source": [
    "image_df = image_df.assign(dimensions=image_df.height.apply(str) + 'x' + image_df.width.apply(str))"
   ]
  },
  {
   "cell_type": "code",
   "execution_count": 9,
   "id": "1d32db37-1059-42d0-8511-b6fd1c383d85",
   "metadata": {},
   "outputs": [],
   "source": [
    "image_df = image_df.assign(image_name=image_df.image_name.apply(lambda x: x[:-4]))"
   ]
  },
  {
   "cell_type": "markdown",
   "id": "c16bfcc2-bceb-42b1-8a9d-18df04217bdc",
   "metadata": {},
   "source": [
    "### Loading labels data"
   ]
  },
  {
   "cell_type": "code",
   "execution_count": 10,
   "id": "435b4324-98cd-405c-b163-f5423ac50d45",
   "metadata": {},
   "outputs": [],
   "source": [
    "label_data = []\n",
    "path_to_train_labels = os.path.join(os.getcwd(), 'dataset/train/labels')\n",
    "for labels_path in os.listdir(path_to_train_labels):\n",
    "    with open(os.path.join(path_to_train_labels, labels_path)) as file:\n",
    "        labels = file.readlines()\n",
    "    labels = [line.strip().split() for line in labels]\n",
    "    labels = [[labels_path.replace('.txt',''),] + line for line in labels]\n",
    "    label_data.extend(labels)"
   ]
  },
  {
   "cell_type": "code",
   "execution_count": 11,
   "id": "4a20cf1b-7a68-48dc-82f5-7293ad82e3e0",
   "metadata": {},
   "outputs": [],
   "source": [
    "labels_df = pd.DataFrame(label_data, columns=['image_name', 'class', 'x_box_center', 'y_box_center', 'box_width', 'box_height'])"
   ]
  },
  {
   "cell_type": "markdown",
   "id": "63335fff-ae50-4d79-a8b4-d85bb79f4631",
   "metadata": {},
   "source": [
    "### Merging data"
   ]
  },
  {
   "cell_type": "code",
   "execution_count": 12,
   "id": "d69146f6-441d-416a-a21f-ea5c2d6c68fa",
   "metadata": {},
   "outputs": [],
   "source": [
    "full_df = labels_df.set_index('image_name').join(image_df.set_index('image_name'), on='image_name', how='left', lsuffix='_labels', rsuffix='_image', validate='many_to_one')"
   ]
  },
  {
   "cell_type": "code",
   "execution_count": 13,
   "id": "6d07fe8a-71d9-49c5-a597-64d1aa011487",
   "metadata": {},
   "outputs": [],
   "source": [
    "full_df = full_df.reset_index()"
   ]
  },
  {
   "cell_type": "code",
   "execution_count": 14,
   "id": "ebbe651d-16c2-46c5-80e7-94c15eca32ab",
   "metadata": {},
   "outputs": [],
   "source": [
    "full_df = full_df.assign()"
   ]
  },
  {
   "cell_type": "code",
   "execution_count": 15,
   "id": "f44d9b49-a385-459f-b08b-65bc15c382a1",
   "metadata": {},
   "outputs": [],
   "source": [
    "full_df = full_df.assign(**{\n",
    "    column: full_df.loc[:, column].astype(float) for column in [\n",
    "        'x_box_center', 'y_box_center', 'box_width', 'box_height']\n",
    "    })"
   ]
  },
  {
   "cell_type": "code",
   "execution_count": 16,
   "id": "39e6d119-db8e-46ac-a4e7-87ea34b1aff6",
   "metadata": {},
   "outputs": [],
   "source": [
    "full_df = full_df.assign(**{\n",
    "    column: full_df.loc[:, column].astype(int) for column in ['class', 'height', 'width']\n",
    "    })"
   ]
  },
  {
   "cell_type": "code",
   "execution_count": 17,
   "id": "1348a269-42d8-4b16-8432-2b662c17f130",
   "metadata": {},
   "outputs": [],
   "source": [
    "full_df = full_df.assign(aspect=lambda x: x.width/x.height)"
   ]
  },
  {
   "cell_type": "markdown",
   "id": "48865cc5-83f8-4411-9b88-d4090afd8958",
   "metadata": {},
   "source": [
    "## Explorative data analysis"
   ]
  },
  {
   "cell_type": "code",
   "execution_count": 18,
   "id": "60b22ad5-d002-4ca6-9591-1daa8fe40147",
   "metadata": {},
   "outputs": [
    {
     "data": {
      "text/html": [
       "<div>\n",
       "<style scoped>\n",
       "    .dataframe tbody tr th:only-of-type {\n",
       "        vertical-align: middle;\n",
       "    }\n",
       "\n",
       "    .dataframe tbody tr th {\n",
       "        vertical-align: top;\n",
       "    }\n",
       "\n",
       "    .dataframe thead th {\n",
       "        text-align: right;\n",
       "    }\n",
       "</style>\n",
       "<table border=\"1\" class=\"dataframe\">\n",
       "  <thead>\n",
       "    <tr style=\"text-align: right;\">\n",
       "      <th></th>\n",
       "      <th>image_name</th>\n",
       "      <th>class</th>\n",
       "      <th>x_box_center</th>\n",
       "      <th>y_box_center</th>\n",
       "      <th>box_width</th>\n",
       "      <th>box_height</th>\n",
       "      <th>dimensions</th>\n",
       "      <th>height</th>\n",
       "      <th>width</th>\n",
       "      <th>aspect</th>\n",
       "    </tr>\n",
       "  </thead>\n",
       "  <tbody>\n",
       "    <tr>\n",
       "      <th>0</th>\n",
       "      <td>N5h_img_212_jpg.rf.db84099d70d9d24d23122e6c259...</td>\n",
       "      <td>2</td>\n",
       "      <td>0.310156</td>\n",
       "      <td>0.181250</td>\n",
       "      <td>0.079687</td>\n",
       "      <td>0.129167</td>\n",
       "      <td>720x1280</td>\n",
       "      <td>720</td>\n",
       "      <td>1280</td>\n",
       "      <td>1.777778</td>\n",
       "    </tr>\n",
       "    <tr>\n",
       "      <th>1</th>\n",
       "      <td>kp1451_jpg.rf.e080bcf36853b87e451a45a0388328ea</td>\n",
       "      <td>1</td>\n",
       "      <td>0.431250</td>\n",
       "      <td>0.711806</td>\n",
       "      <td>0.076563</td>\n",
       "      <td>0.056944</td>\n",
       "      <td>720x1280</td>\n",
       "      <td>720</td>\n",
       "      <td>1280</td>\n",
       "      <td>1.777778</td>\n",
       "    </tr>\n",
       "    <tr>\n",
       "      <th>2</th>\n",
       "      <td>p65621376_jpg.rf.386368b9ea28598e5e2b98a543541aac</td>\n",
       "      <td>7</td>\n",
       "      <td>0.233203</td>\n",
       "      <td>0.411806</td>\n",
       "      <td>0.058594</td>\n",
       "      <td>0.081944</td>\n",
       "      <td>720x1280</td>\n",
       "      <td>720</td>\n",
       "      <td>1280</td>\n",
       "      <td>1.777778</td>\n",
       "    </tr>\n",
       "    <tr>\n",
       "      <th>3</th>\n",
       "      <td>PP02img1237_jpg.rf.bcedfc71d7bb8dbd8218d64d7cd...</td>\n",
       "      <td>0</td>\n",
       "      <td>0.141016</td>\n",
       "      <td>0.545139</td>\n",
       "      <td>0.075781</td>\n",
       "      <td>0.084722</td>\n",
       "      <td>720x1280</td>\n",
       "      <td>720</td>\n",
       "      <td>1280</td>\n",
       "      <td>1.777778</td>\n",
       "    </tr>\n",
       "    <tr>\n",
       "      <th>4</th>\n",
       "      <td>PP02img1237_jpg.rf.bcedfc71d7bb8dbd8218d64d7cd...</td>\n",
       "      <td>0</td>\n",
       "      <td>0.255859</td>\n",
       "      <td>0.582639</td>\n",
       "      <td>0.083594</td>\n",
       "      <td>0.126389</td>\n",
       "      <td>720x1280</td>\n",
       "      <td>720</td>\n",
       "      <td>1280</td>\n",
       "      <td>1.777778</td>\n",
       "    </tr>\n",
       "    <tr>\n",
       "      <th>...</th>\n",
       "      <td>...</td>\n",
       "      <td>...</td>\n",
       "      <td>...</td>\n",
       "      <td>...</td>\n",
       "      <td>...</td>\n",
       "      <td>...</td>\n",
       "      <td>...</td>\n",
       "      <td>...</td>\n",
       "      <td>...</td>\n",
       "      <td>...</td>\n",
       "    </tr>\n",
       "    <tr>\n",
       "      <th>19683</th>\n",
       "      <td>frame54--2-_jpg.rf.4a94147bae83d318d28b46b363c...</td>\n",
       "      <td>3</td>\n",
       "      <td>0.701904</td>\n",
       "      <td>0.486654</td>\n",
       "      <td>0.036621</td>\n",
       "      <td>0.050130</td>\n",
       "      <td>1536x2048</td>\n",
       "      <td>1536</td>\n",
       "      <td>2048</td>\n",
       "      <td>1.333333</td>\n",
       "    </tr>\n",
       "    <tr>\n",
       "      <th>19684</th>\n",
       "      <td>frame54--2-_jpg.rf.4a94147bae83d318d28b46b363c...</td>\n",
       "      <td>1</td>\n",
       "      <td>0.708008</td>\n",
       "      <td>0.456055</td>\n",
       "      <td>0.039062</td>\n",
       "      <td>0.022786</td>\n",
       "      <td>1536x2048</td>\n",
       "      <td>1536</td>\n",
       "      <td>2048</td>\n",
       "      <td>1.333333</td>\n",
       "    </tr>\n",
       "    <tr>\n",
       "      <th>19685</th>\n",
       "      <td>packing1548_jpg.rf.da0852a829d8bb03a3a96169671...</td>\n",
       "      <td>6</td>\n",
       "      <td>0.730859</td>\n",
       "      <td>0.244444</td>\n",
       "      <td>0.058594</td>\n",
       "      <td>0.055556</td>\n",
       "      <td>720x1280</td>\n",
       "      <td>720</td>\n",
       "      <td>1280</td>\n",
       "      <td>1.777778</td>\n",
       "    </tr>\n",
       "    <tr>\n",
       "      <th>19686</th>\n",
       "      <td>packing1548_jpg.rf.da0852a829d8bb03a3a96169671...</td>\n",
       "      <td>1</td>\n",
       "      <td>0.158203</td>\n",
       "      <td>0.422917</td>\n",
       "      <td>0.049219</td>\n",
       "      <td>0.048611</td>\n",
       "      <td>720x1280</td>\n",
       "      <td>720</td>\n",
       "      <td>1280</td>\n",
       "      <td>1.777778</td>\n",
       "    </tr>\n",
       "    <tr>\n",
       "      <th>19687</th>\n",
       "      <td>p113104_jpg.rf.8e4ffc52a9fcb7ca2b36ae4b048a601c</td>\n",
       "      <td>7</td>\n",
       "      <td>0.231250</td>\n",
       "      <td>0.471528</td>\n",
       "      <td>0.078125</td>\n",
       "      <td>0.109722</td>\n",
       "      <td>720x1280</td>\n",
       "      <td>720</td>\n",
       "      <td>1280</td>\n",
       "      <td>1.777778</td>\n",
       "    </tr>\n",
       "  </tbody>\n",
       "</table>\n",
       "<p>19688 rows × 10 columns</p>\n",
       "</div>"
      ],
      "text/plain": [
       "                                              image_name  class  x_box_center  \\\n",
       "0      N5h_img_212_jpg.rf.db84099d70d9d24d23122e6c259...      2      0.310156   \n",
       "1         kp1451_jpg.rf.e080bcf36853b87e451a45a0388328ea      1      0.431250   \n",
       "2      p65621376_jpg.rf.386368b9ea28598e5e2b98a543541aac      7      0.233203   \n",
       "3      PP02img1237_jpg.rf.bcedfc71d7bb8dbd8218d64d7cd...      0      0.141016   \n",
       "4      PP02img1237_jpg.rf.bcedfc71d7bb8dbd8218d64d7cd...      0      0.255859   \n",
       "...                                                  ...    ...           ...   \n",
       "19683  frame54--2-_jpg.rf.4a94147bae83d318d28b46b363c...      3      0.701904   \n",
       "19684  frame54--2-_jpg.rf.4a94147bae83d318d28b46b363c...      1      0.708008   \n",
       "19685  packing1548_jpg.rf.da0852a829d8bb03a3a96169671...      6      0.730859   \n",
       "19686  packing1548_jpg.rf.da0852a829d8bb03a3a96169671...      1      0.158203   \n",
       "19687    p113104_jpg.rf.8e4ffc52a9fcb7ca2b36ae4b048a601c      7      0.231250   \n",
       "\n",
       "       y_box_center  box_width  box_height dimensions  height  width    aspect  \n",
       "0          0.181250   0.079687    0.129167   720x1280     720   1280  1.777778  \n",
       "1          0.711806   0.076563    0.056944   720x1280     720   1280  1.777778  \n",
       "2          0.411806   0.058594    0.081944   720x1280     720   1280  1.777778  \n",
       "3          0.545139   0.075781    0.084722   720x1280     720   1280  1.777778  \n",
       "4          0.582639   0.083594    0.126389   720x1280     720   1280  1.777778  \n",
       "...             ...        ...         ...        ...     ...    ...       ...  \n",
       "19683      0.486654   0.036621    0.050130  1536x2048    1536   2048  1.333333  \n",
       "19684      0.456055   0.039062    0.022786  1536x2048    1536   2048  1.333333  \n",
       "19685      0.244444   0.058594    0.055556   720x1280     720   1280  1.777778  \n",
       "19686      0.422917   0.049219    0.048611   720x1280     720   1280  1.777778  \n",
       "19687      0.471528   0.078125    0.109722   720x1280     720   1280  1.777778  \n",
       "\n",
       "[19688 rows x 10 columns]"
      ]
     },
     "execution_count": 18,
     "metadata": {},
     "output_type": "execute_result"
    }
   ],
   "source": [
    "full_df"
   ]
  },
  {
   "cell_type": "markdown",
   "id": "1c2b1691-9657-43db-bc18-f9812a2d5418",
   "metadata": {},
   "source": [
    "### Balans klas"
   ]
  },
  {
   "cell_type": "code",
   "execution_count": 19,
   "id": "057c6d48-079e-4dd9-bd16-fbb62ab92b82",
   "metadata": {},
   "outputs": [
    {
     "data": {
      "text/html": [
       "<div>\n",
       "<style scoped>\n",
       "    .dataframe tbody tr th:only-of-type {\n",
       "        vertical-align: middle;\n",
       "    }\n",
       "\n",
       "    .dataframe tbody tr th {\n",
       "        vertical-align: top;\n",
       "    }\n",
       "\n",
       "    .dataframe thead th {\n",
       "        text-align: right;\n",
       "    }\n",
       "</style>\n",
       "<table border=\"1\" class=\"dataframe\">\n",
       "  <thead>\n",
       "    <tr style=\"text-align: right;\">\n",
       "      <th></th>\n",
       "      <th>count</th>\n",
       "      <th>proportion</th>\n",
       "    </tr>\n",
       "    <tr>\n",
       "      <th>class</th>\n",
       "      <th></th>\n",
       "      <th></th>\n",
       "    </tr>\n",
       "  </thead>\n",
       "  <tbody>\n",
       "    <tr>\n",
       "      <th>5</th>\n",
       "      <td>4885</td>\n",
       "      <td>0.248121</td>\n",
       "    </tr>\n",
       "    <tr>\n",
       "      <th>0</th>\n",
       "      <td>3705</td>\n",
       "      <td>0.188186</td>\n",
       "    </tr>\n",
       "    <tr>\n",
       "      <th>1</th>\n",
       "      <td>3361</td>\n",
       "      <td>0.170713</td>\n",
       "    </tr>\n",
       "    <tr>\n",
       "      <th>6</th>\n",
       "      <td>3293</td>\n",
       "      <td>0.167259</td>\n",
       "    </tr>\n",
       "    <tr>\n",
       "      <th>2</th>\n",
       "      <td>1240</td>\n",
       "      <td>0.062983</td>\n",
       "    </tr>\n",
       "    <tr>\n",
       "      <th>7</th>\n",
       "      <td>1067</td>\n",
       "      <td>0.054195</td>\n",
       "    </tr>\n",
       "    <tr>\n",
       "      <th>10</th>\n",
       "      <td>570</td>\n",
       "      <td>0.028952</td>\n",
       "    </tr>\n",
       "    <tr>\n",
       "      <th>8</th>\n",
       "      <td>524</td>\n",
       "      <td>0.026615</td>\n",
       "    </tr>\n",
       "    <tr>\n",
       "      <th>9</th>\n",
       "      <td>463</td>\n",
       "      <td>0.023517</td>\n",
       "    </tr>\n",
       "    <tr>\n",
       "      <th>4</th>\n",
       "      <td>248</td>\n",
       "      <td>0.012597</td>\n",
       "    </tr>\n",
       "    <tr>\n",
       "      <th>3</th>\n",
       "      <td>211</td>\n",
       "      <td>0.010717</td>\n",
       "    </tr>\n",
       "    <tr>\n",
       "      <th>11</th>\n",
       "      <td>121</td>\n",
       "      <td>0.006146</td>\n",
       "    </tr>\n",
       "  </tbody>\n",
       "</table>\n",
       "</div>"
      ],
      "text/plain": [
       "       count  proportion\n",
       "class                   \n",
       "5       4885    0.248121\n",
       "0       3705    0.188186\n",
       "1       3361    0.170713\n",
       "6       3293    0.167259\n",
       "2       1240    0.062983\n",
       "7       1067    0.054195\n",
       "10       570    0.028952\n",
       "8        524    0.026615\n",
       "9        463    0.023517\n",
       "4        248    0.012597\n",
       "3        211    0.010717\n",
       "11       121    0.006146"
      ]
     },
     "execution_count": 19,
     "metadata": {},
     "output_type": "execute_result"
    }
   ],
   "source": [
    "pd.concat([full_df.value_counts('class'), full_df.value_counts('class', normalize=True)], axis=1)"
   ]
  },
  {
   "cell_type": "code",
   "execution_count": 20,
   "id": "a14ffca6-c944-4501-9e55-d118537606db",
   "metadata": {},
   "outputs": [
    {
     "data": {
      "text/plain": [
       "0.7742787484762291"
      ]
     },
     "execution_count": 20,
     "metadata": {},
     "output_type": "execute_result"
    }
   ],
   "source": [
    "full_df.value_counts('class', normalize=True)[:4].sum()"
   ]
  },
  {
   "cell_type": "markdown",
   "id": "0166af9f-8679-4075-9e6e-58e5a813f1a3",
   "metadata": {},
   "source": [
    "Na początek możemy zauważyć, że zbiór jest zdecydowanie niezbalansowany pod względem klas. Klasa o indeksie `5` stanowi prawie jedną czwartą wszystkich etykiet. Mamy 3 klasy o podobnej liczebności, ale kolejne klasy są już kilkukrotnie mniej liczna, a najmniejliczne klasa stanowi niecały procent obserwacji.\n",
    "\n",
    "Póki co na tej podstawie możemy powiedzieć, że zbiór nie nadaje się do uczenia modelu bez dodatkowych kroków. Większość algorytmów podczas uczenia będzie zwracać wyniki skupione głównie na 4 najliczniejszych klasach, które stanowią ponad `77%` obserwacji w zbiorze.\n",
    "\n",
    "By skorygować te problemy można podejść do problemu za pomocą algorytmów, które nie będą wrażliwe na różną liczebność klas. Na przykład możemy podejść do problemu jako klasyfikacji \"multi-class multi-label\", więc dla każdej z nich możemy spróbować wyuczyć osobny klasyfikator. Jednak niska liczba próbek dla najmniej licznej klasy prawdopodobnie nie pozwali na osiągnięcie zadowalających wyników.\n",
    "\n",
    "W następnym kroku można zrezygnować z detekcji tych najmniej licznych klas."
   ]
  },
  {
   "cell_type": "markdown",
   "id": "0e8a42f1-8ab8-4c4d-9eb3-f692a5a12109",
   "metadata": {},
   "source": [
    "### Wymiary i aspekt"
   ]
  },
  {
   "cell_type": "code",
   "execution_count": 21,
   "id": "ebe01432-db78-4c2d-b61b-56b91ae178d4",
   "metadata": {},
   "outputs": [
    {
     "data": {
      "text/html": [
       "<div>\n",
       "<style scoped>\n",
       "    .dataframe tbody tr th:only-of-type {\n",
       "        vertical-align: middle;\n",
       "    }\n",
       "\n",
       "    .dataframe tbody tr th {\n",
       "        vertical-align: top;\n",
       "    }\n",
       "\n",
       "    .dataframe thead th {\n",
       "        text-align: right;\n",
       "    }\n",
       "</style>\n",
       "<table border=\"1\" class=\"dataframe\">\n",
       "  <thead>\n",
       "    <tr style=\"text-align: right;\">\n",
       "      <th></th>\n",
       "      <th>class</th>\n",
       "      <th>x_box_center</th>\n",
       "      <th>y_box_center</th>\n",
       "      <th>box_width</th>\n",
       "      <th>box_height</th>\n",
       "      <th>height</th>\n",
       "      <th>width</th>\n",
       "      <th>aspect</th>\n",
       "    </tr>\n",
       "  </thead>\n",
       "  <tbody>\n",
       "    <tr>\n",
       "      <th>count</th>\n",
       "      <td>19688.000000</td>\n",
       "      <td>19688.000000</td>\n",
       "      <td>19688.000000</td>\n",
       "      <td>19688.000000</td>\n",
       "      <td>19688.000000</td>\n",
       "      <td>19688.000000</td>\n",
       "      <td>19688.000000</td>\n",
       "      <td>19688.000000</td>\n",
       "    </tr>\n",
       "    <tr>\n",
       "      <th>mean</th>\n",
       "      <td>3.784437</td>\n",
       "      <td>0.506671</td>\n",
       "      <td>0.492225</td>\n",
       "      <td>0.071431</td>\n",
       "      <td>0.108866</td>\n",
       "      <td>842.739537</td>\n",
       "      <td>1399.830049</td>\n",
       "      <td>1.704698</td>\n",
       "    </tr>\n",
       "    <tr>\n",
       "      <th>std</th>\n",
       "      <td>2.919947</td>\n",
       "      <td>0.248042</td>\n",
       "      <td>0.201932</td>\n",
       "      <td>0.029964</td>\n",
       "      <td>0.076925</td>\n",
       "      <td>317.136392</td>\n",
       "      <td>384.822919</td>\n",
       "      <td>0.163058</td>\n",
       "    </tr>\n",
       "    <tr>\n",
       "      <th>min</th>\n",
       "      <td>0.000000</td>\n",
       "      <td>0.016000</td>\n",
       "      <td>0.031944</td>\n",
       "      <td>0.017969</td>\n",
       "      <td>0.014323</td>\n",
       "      <td>199.000000</td>\n",
       "      <td>200.000000</td>\n",
       "      <td>0.656000</td>\n",
       "    </tr>\n",
       "    <tr>\n",
       "      <th>25%</th>\n",
       "      <td>1.000000</td>\n",
       "      <td>0.294922</td>\n",
       "      <td>0.336775</td>\n",
       "      <td>0.052344</td>\n",
       "      <td>0.054036</td>\n",
       "      <td>720.000000</td>\n",
       "      <td>1280.000000</td>\n",
       "      <td>1.777778</td>\n",
       "    </tr>\n",
       "    <tr>\n",
       "      <th>50%</th>\n",
       "      <td>5.000000</td>\n",
       "      <td>0.448939</td>\n",
       "      <td>0.484722</td>\n",
       "      <td>0.066406</td>\n",
       "      <td>0.091667</td>\n",
       "      <td>720.000000</td>\n",
       "      <td>1280.000000</td>\n",
       "      <td>1.777778</td>\n",
       "    </tr>\n",
       "    <tr>\n",
       "      <th>75%</th>\n",
       "      <td>6.000000</td>\n",
       "      <td>0.732910</td>\n",
       "      <td>0.672852</td>\n",
       "      <td>0.085938</td>\n",
       "      <td>0.144444</td>\n",
       "      <td>720.000000</td>\n",
       "      <td>1280.000000</td>\n",
       "      <td>1.777778</td>\n",
       "    </tr>\n",
       "    <tr>\n",
       "      <th>max</th>\n",
       "      <td>11.000000</td>\n",
       "      <td>0.981250</td>\n",
       "      <td>0.965495</td>\n",
       "      <td>0.559375</td>\n",
       "      <td>0.733333</td>\n",
       "      <td>1536.000000</td>\n",
       "      <td>2688.000000</td>\n",
       "      <td>1.866667</td>\n",
       "    </tr>\n",
       "  </tbody>\n",
       "</table>\n",
       "</div>"
      ],
      "text/plain": [
       "              class  x_box_center  y_box_center     box_width    box_height  \\\n",
       "count  19688.000000  19688.000000  19688.000000  19688.000000  19688.000000   \n",
       "mean       3.784437      0.506671      0.492225      0.071431      0.108866   \n",
       "std        2.919947      0.248042      0.201932      0.029964      0.076925   \n",
       "min        0.000000      0.016000      0.031944      0.017969      0.014323   \n",
       "25%        1.000000      0.294922      0.336775      0.052344      0.054036   \n",
       "50%        5.000000      0.448939      0.484722      0.066406      0.091667   \n",
       "75%        6.000000      0.732910      0.672852      0.085938      0.144444   \n",
       "max       11.000000      0.981250      0.965495      0.559375      0.733333   \n",
       "\n",
       "             height         width        aspect  \n",
       "count  19688.000000  19688.000000  19688.000000  \n",
       "mean     842.739537   1399.830049      1.704698  \n",
       "std      317.136392    384.822919      0.163058  \n",
       "min      199.000000    200.000000      0.656000  \n",
       "25%      720.000000   1280.000000      1.777778  \n",
       "50%      720.000000   1280.000000      1.777778  \n",
       "75%      720.000000   1280.000000      1.777778  \n",
       "max     1536.000000   2688.000000      1.866667  "
      ]
     },
     "execution_count": 21,
     "metadata": {},
     "output_type": "execute_result"
    }
   ],
   "source": [
    "full_df.describe()"
   ]
  },
  {
   "cell_type": "markdown",
   "id": "597c7766-03d4-4c7d-9541-9ebdb8c872cc",
   "metadata": {},
   "source": [
    "Dalej możemy skupić się na wymiarach obrazów. Widzimy, że w zbiorze znajduje się pewna liczba małych obrazów, dla których maksimum dla obu szerokości lub wysokości z występujących jest kilkukortnie większe od minimum. Jednak widzimy, że większość z nich, bo już dla percentyla `25%`, ma wymiary conajmniej 720x1280 czyli ustandaryzowana rozdzielczość HD ready. Widzimy po maksiumum też, że istnieją obrazt większe. Problem z rozmiarem polega na tym, że część modeli może oczekiwać ustandaryzowanej rozdzielczości plików, więc wymagałoby to skalowania niektórych z nich. Jeśli zdecydujemy się skalować w dół, to tracimy część informacji, a jeśli decydujemy się skalować w górę, to mniejsze obrazy nie będą zawierały odpowiednich detali, które zawierają większe obrazy.\n",
    "\n",
    "Widzimy, że aspekt obrazów również może się znacząco różnić. To nakłada potencjalnie kolejne ograniczenie na modele, które chcemy wykorzystywać. Nawet przy założeniu skalowania części z obrazów, jeśli przeskalujemy je do innego aspektu, to cechy, które rozpoznają modele mogą zostać zdeformowane, a może mieć to istotny wpływ na ich działanie.\n",
    "\n",
    "Spróbujmy sprawdzić, jaka część zbioru ma aspekt ten sam, co HD ready."
   ]
  },
  {
   "cell_type": "code",
   "execution_count": 22,
   "id": "49c04ef6-0df5-4e76-903c-d1fc11cd9027",
   "metadata": {},
   "outputs": [
    {
     "data": {
      "text/plain": [
       "15710"
      ]
     },
     "execution_count": 22,
     "metadata": {},
     "output_type": "execute_result"
    }
   ],
   "source": [
    "full_df.loc[(full_df.aspect-1280/720).abs()<1e-6].image_name.count()"
   ]
  },
  {
   "cell_type": "markdown",
   "id": "d93e296d-fbf0-4f3a-84cf-8099f6816094",
   "metadata": {},
   "source": [
    "Czyli mniej od całego zbioru o:"
   ]
  },
  {
   "cell_type": "code",
   "execution_count": 23,
   "id": "1a5aa693-d395-4dca-8279-65fafa0d3d98",
   "metadata": {},
   "outputs": [
    {
     "data": {
      "text/plain": [
       "3978"
      ]
     },
     "execution_count": 23,
     "metadata": {},
     "output_type": "execute_result"
    }
   ],
   "source": [
    "full_df.image_name.count() - full_df.loc[(full_df.aspect-1280/720).abs()<1e-6].image_name.count()"
   ]
  },
  {
   "cell_type": "code",
   "execution_count": 24,
   "id": "7e827f19-c1b9-4938-919c-2936e519cebc",
   "metadata": {},
   "outputs": [
    {
     "data": {
      "text/plain": [
       "'Jest to około  20.21% zbioru'"
      ]
     },
     "execution_count": 24,
     "metadata": {},
     "output_type": "execute_result"
    }
   ],
   "source": [
    "f'Jest to około  {round((full_df.image_name.count() - full_df.loc[(full_df.aspect-1280/720).abs()<1e-6].image_name.count())/full_df.image_name.count()*100,2)}% zbioru'"
   ]
  },
  {
   "cell_type": "markdown",
   "id": "f6a97784-cf64-48ea-9ee5-5929b77cdbe5",
   "metadata": {},
   "source": [
    "Możemy rozważyć statystykę takiego zbioru."
   ]
  },
  {
   "cell_type": "code",
   "execution_count": 25,
   "id": "0da3633e-9532-4d6b-85a8-44597c8d423f",
   "metadata": {},
   "outputs": [],
   "source": [
    "same_aspect_df = full_df.loc[(full_df.aspect-1280/720).abs()<1e-6]"
   ]
  },
  {
   "cell_type": "code",
   "execution_count": 26,
   "id": "748adac4-9177-48e4-bef2-4ac9fe055786",
   "metadata": {},
   "outputs": [
    {
     "data": {
      "text/html": [
       "<div>\n",
       "<style scoped>\n",
       "    .dataframe tbody tr th:only-of-type {\n",
       "        vertical-align: middle;\n",
       "    }\n",
       "\n",
       "    .dataframe tbody tr th {\n",
       "        vertical-align: top;\n",
       "    }\n",
       "\n",
       "    .dataframe thead th {\n",
       "        text-align: right;\n",
       "    }\n",
       "</style>\n",
       "<table border=\"1\" class=\"dataframe\">\n",
       "  <thead>\n",
       "    <tr style=\"text-align: right;\">\n",
       "      <th></th>\n",
       "      <th>class</th>\n",
       "      <th>x_box_center</th>\n",
       "      <th>y_box_center</th>\n",
       "      <th>box_width</th>\n",
       "      <th>box_height</th>\n",
       "      <th>height</th>\n",
       "      <th>width</th>\n",
       "      <th>aspect</th>\n",
       "    </tr>\n",
       "  </thead>\n",
       "  <tbody>\n",
       "    <tr>\n",
       "      <th>count</th>\n",
       "      <td>15710.000000</td>\n",
       "      <td>15710.000000</td>\n",
       "      <td>15710.000000</td>\n",
       "      <td>15710.000000</td>\n",
       "      <td>15710.000000</td>\n",
       "      <td>15710.000000</td>\n",
       "      <td>15710.000000</td>\n",
       "      <td>1.571000e+04</td>\n",
       "    </tr>\n",
       "    <tr>\n",
       "      <th>mean</th>\n",
       "      <td>3.255060</td>\n",
       "      <td>0.459667</td>\n",
       "      <td>0.475113</td>\n",
       "      <td>0.073452</td>\n",
       "      <td>0.112459</td>\n",
       "      <td>723.391470</td>\n",
       "      <td>1286.029281</td>\n",
       "      <td>1.777778e+00</td>\n",
       "    </tr>\n",
       "    <tr>\n",
       "      <th>std</th>\n",
       "      <td>2.596032</td>\n",
       "      <td>0.237280</td>\n",
       "      <td>0.205214</td>\n",
       "      <td>0.024008</td>\n",
       "      <td>0.065868</td>\n",
       "      <td>34.777928</td>\n",
       "      <td>61.827427</td>\n",
       "      <td>6.661550e-16</td>\n",
       "    </tr>\n",
       "    <tr>\n",
       "      <th>min</th>\n",
       "      <td>0.000000</td>\n",
       "      <td>0.019141</td>\n",
       "      <td>0.031944</td>\n",
       "      <td>0.017969</td>\n",
       "      <td>0.015741</td>\n",
       "      <td>720.000000</td>\n",
       "      <td>1280.000000</td>\n",
       "      <td>1.777778e+00</td>\n",
       "    </tr>\n",
       "    <tr>\n",
       "      <th>25%</th>\n",
       "      <td>1.000000</td>\n",
       "      <td>0.255469</td>\n",
       "      <td>0.300694</td>\n",
       "      <td>0.056250</td>\n",
       "      <td>0.055556</td>\n",
       "      <td>720.000000</td>\n",
       "      <td>1280.000000</td>\n",
       "      <td>1.777778e+00</td>\n",
       "    </tr>\n",
       "    <tr>\n",
       "      <th>50%</th>\n",
       "      <td>5.000000</td>\n",
       "      <td>0.417969</td>\n",
       "      <td>0.461111</td>\n",
       "      <td>0.068750</td>\n",
       "      <td>0.102778</td>\n",
       "      <td>720.000000</td>\n",
       "      <td>1280.000000</td>\n",
       "      <td>1.777778e+00</td>\n",
       "    </tr>\n",
       "    <tr>\n",
       "      <th>75%</th>\n",
       "      <td>5.000000</td>\n",
       "      <td>0.693750</td>\n",
       "      <td>0.653472</td>\n",
       "      <td>0.086719</td>\n",
       "      <td>0.151389</td>\n",
       "      <td>720.000000</td>\n",
       "      <td>1280.000000</td>\n",
       "      <td>1.777778e+00</td>\n",
       "    </tr>\n",
       "    <tr>\n",
       "      <th>max</th>\n",
       "      <td>10.000000</td>\n",
       "      <td>0.981250</td>\n",
       "      <td>0.949306</td>\n",
       "      <td>0.243750</td>\n",
       "      <td>0.733333</td>\n",
       "      <td>1080.000000</td>\n",
       "      <td>1920.000000</td>\n",
       "      <td>1.777778e+00</td>\n",
       "    </tr>\n",
       "  </tbody>\n",
       "</table>\n",
       "</div>"
      ],
      "text/plain": [
       "              class  x_box_center  y_box_center     box_width    box_height  \\\n",
       "count  15710.000000  15710.000000  15710.000000  15710.000000  15710.000000   \n",
       "mean       3.255060      0.459667      0.475113      0.073452      0.112459   \n",
       "std        2.596032      0.237280      0.205214      0.024008      0.065868   \n",
       "min        0.000000      0.019141      0.031944      0.017969      0.015741   \n",
       "25%        1.000000      0.255469      0.300694      0.056250      0.055556   \n",
       "50%        5.000000      0.417969      0.461111      0.068750      0.102778   \n",
       "75%        5.000000      0.693750      0.653472      0.086719      0.151389   \n",
       "max       10.000000      0.981250      0.949306      0.243750      0.733333   \n",
       "\n",
       "             height         width        aspect  \n",
       "count  15710.000000  15710.000000  1.571000e+04  \n",
       "mean     723.391470   1286.029281  1.777778e+00  \n",
       "std       34.777928     61.827427  6.661550e-16  \n",
       "min      720.000000   1280.000000  1.777778e+00  \n",
       "25%      720.000000   1280.000000  1.777778e+00  \n",
       "50%      720.000000   1280.000000  1.777778e+00  \n",
       "75%      720.000000   1280.000000  1.777778e+00  \n",
       "max     1080.000000   1920.000000  1.777778e+00  "
      ]
     },
     "execution_count": 26,
     "metadata": {},
     "output_type": "execute_result"
    }
   ],
   "source": [
    "same_aspect_df.describe()"
   ]
  },
  {
   "cell_type": "code",
   "execution_count": 27,
   "id": "ec9bf8e3-cee5-49c6-82c5-b7c79d8b0643",
   "metadata": {},
   "outputs": [
    {
     "data": {
      "text/plain": [
       "dimensions\n",
       "720x1280     15562\n",
       "1080x1920      148\n",
       "Name: count, dtype: int64"
      ]
     },
     "execution_count": 27,
     "metadata": {},
     "output_type": "execute_result"
    }
   ],
   "source": [
    "same_aspect_df.value_counts('dimensions')"
   ]
  },
  {
   "cell_type": "markdown",
   "id": "94d94f50-76f6-4620-b115-e48f86b6b3c8",
   "metadata": {},
   "source": [
    "Widzimy, że zostały nam jedynie obrazy ze standardu HD ready i Full HD, gdzie tych drugich. Ponieważ HD ready zawiera już dużo szczegółów, a obrazów Full HD jest niewiele, to możemy postawić hipotezę, że można te drugie przeskalować w dół do HD ready i będziemy mieli jednolity pod względem wymiarów i tym samym aspektu zbiór obrazów.\n",
    "\n",
    "Sprawdźmy jeszcze, jak zmieniły się liczebności klas po tym odsianiu części obserwacji."
   ]
  },
  {
   "cell_type": "markdown",
   "id": "be6b5e1f-be4c-441d-8820-d38f97e0cee2",
   "metadata": {},
   "source": [
    "#### Balans klas zbioru o stałym aspekcie"
   ]
  },
  {
   "cell_type": "code",
   "execution_count": 28,
   "id": "3bf9b3ff-d4bf-4514-815b-4cb050522227",
   "metadata": {},
   "outputs": [
    {
     "data": {
      "text/html": [
       "<div>\n",
       "<style scoped>\n",
       "    .dataframe tbody tr th:only-of-type {\n",
       "        vertical-align: middle;\n",
       "    }\n",
       "\n",
       "    .dataframe tbody tr th {\n",
       "        vertical-align: top;\n",
       "    }\n",
       "\n",
       "    .dataframe thead th {\n",
       "        text-align: right;\n",
       "    }\n",
       "</style>\n",
       "<table border=\"1\" class=\"dataframe\">\n",
       "  <thead>\n",
       "    <tr style=\"text-align: right;\">\n",
       "      <th></th>\n",
       "      <th>count</th>\n",
       "      <th>proportion</th>\n",
       "    </tr>\n",
       "    <tr>\n",
       "      <th>class</th>\n",
       "      <th></th>\n",
       "      <th></th>\n",
       "    </tr>\n",
       "  </thead>\n",
       "  <tbody>\n",
       "    <tr>\n",
       "      <th>5</th>\n",
       "      <td>4604</td>\n",
       "      <td>0.293062</td>\n",
       "    </tr>\n",
       "    <tr>\n",
       "      <th>0</th>\n",
       "      <td>3679</td>\n",
       "      <td>0.234182</td>\n",
       "    </tr>\n",
       "    <tr>\n",
       "      <th>1</th>\n",
       "      <td>2945</td>\n",
       "      <td>0.187460</td>\n",
       "    </tr>\n",
       "    <tr>\n",
       "      <th>6</th>\n",
       "      <td>2694</td>\n",
       "      <td>0.171483</td>\n",
       "    </tr>\n",
       "    <tr>\n",
       "      <th>7</th>\n",
       "      <td>877</td>\n",
       "      <td>0.055824</td>\n",
       "    </tr>\n",
       "    <tr>\n",
       "      <th>2</th>\n",
       "      <td>700</td>\n",
       "      <td>0.044558</td>\n",
       "    </tr>\n",
       "    <tr>\n",
       "      <th>9</th>\n",
       "      <td>105</td>\n",
       "      <td>0.006684</td>\n",
       "    </tr>\n",
       "    <tr>\n",
       "      <th>4</th>\n",
       "      <td>86</td>\n",
       "      <td>0.005474</td>\n",
       "    </tr>\n",
       "    <tr>\n",
       "      <th>8</th>\n",
       "      <td>10</td>\n",
       "      <td>0.000637</td>\n",
       "    </tr>\n",
       "    <tr>\n",
       "      <th>10</th>\n",
       "      <td>10</td>\n",
       "      <td>0.000637</td>\n",
       "    </tr>\n",
       "  </tbody>\n",
       "</table>\n",
       "</div>"
      ],
      "text/plain": [
       "       count  proportion\n",
       "class                   \n",
       "5       4604    0.293062\n",
       "0       3679    0.234182\n",
       "1       2945    0.187460\n",
       "6       2694    0.171483\n",
       "7        877    0.055824\n",
       "2        700    0.044558\n",
       "9        105    0.006684\n",
       "4         86    0.005474\n",
       "8         10    0.000637\n",
       "10        10    0.000637"
      ]
     },
     "execution_count": 28,
     "metadata": {},
     "output_type": "execute_result"
    }
   ],
   "source": [
    "pd.concat([same_aspect_df.value_counts('class'), same_aspect_df.value_counts('class', normalize=True)], axis=1)"
   ]
  },
  {
   "cell_type": "markdown",
   "id": "a3fc9887-7732-4be4-8960-895e62c15c6a",
   "metadata": {},
   "source": [
    "Niestety widzimy, że tym samym straciliśmy zupełnie jedynastą klasę, a kolejne cztery mają liczebność mniejszą niż klasa jedynasta przed redukcją zbioru. W tym miejscu powinniśmy zadać sobie pytanie, czy klasy te są kluczowe dla rozwiązania problemu.\n",
    "\n",
    "Jeśli są, to albo musimy poluzować założenia na temat wymiarów i aspektu albo popracować nad zbiorem danych. Możliwe, że w danych, które odrzuciliśmy są obrazy, które bez utraty zaznaczonych obiektów można dociąć do oczekiwanego przez nas aspektu. \n",
    "\n",
    "W przeciwnym razie konieczne będzie rozszerzenie zbioru danych kolejnymi ręcznie oznaczanymi przykładami."
   ]
  },
  {
   "cell_type": "markdown",
   "id": "82e9b242-f1bf-4ddb-b890-a08bd0637962",
   "metadata": {},
   "source": [
    "### Zaznaczenia"
   ]
  },
  {
   "cell_type": "markdown",
   "id": "d2bf9b5e-3c95-4144-bce5-42d47c2d1cc4",
   "metadata": {},
   "source": [
    "Sprawdźmy zaznaczenia i czy ich rozkłady zmieniły się po ograniczeniu zbioru.\n",
    "Na początek cały zbiór."
   ]
  },
  {
   "cell_type": "code",
   "execution_count": 29,
   "id": "6f9cac98-bd6f-4617-8093-35ca27f2fa36",
   "metadata": {},
   "outputs": [
    {
     "data": {
      "image/png": "[encoded data removed]",
      "text/plain": [
       "<Figure size 640x480 with 4 Axes>"
      ]
     },
     "metadata": {},
     "output_type": "display_data"
    }
   ],
   "source": [
    "full_df.loc[:, ['x_box_center', 'y_box_center', 'box_width', 'box_height']].hist(bins=30)\n",
    "plt.show()"
   ]
  },
  {
   "cell_type": "code",
   "execution_count": 30,
   "id": "c1a44094-530d-4073-a6ac-892f6bbb6c3f",
   "metadata": {},
   "outputs": [
    {
     "data": {
      "image/png": "[encoded data removed]",
      "text/plain": [
       "<Figure size 640x480 with 4 Axes>"
      ]
     },
     "metadata": {},
     "output_type": "display_data"
    }
   ],
   "source": [
    "same_aspect_df.loc[:, ['x_box_center', 'y_box_center', 'box_width', 'box_height']].hist(bins=30)\n",
    "plt.show()"
   ]
  },
  {
   "cell_type": "markdown",
   "id": "f47c2c33-876e-4d3b-89b7-55a34ee99e3c",
   "metadata": {},
   "source": [
    "Widzmimy, że rozkłady nie różnią się znacznie. Dla współrzędnych środka widzimy, że zaznaczenia rzadko pojawiają się na środku, ale za to mają dwie mody każda skoncentrowana wokół 0.25 i 0.75 względnego rozmiaru obrazu.\n",
    "\n",
    "Rozmiary zaznaczeń są w większości znacznie mniejsze od rozmiaru samego obrazu, więc jest szansa, że rzeczywiście te z innymi aspektami dałoby się dosztukować do aspektu HD.\n",
    "\n",
    "Widzimy także pewne artefakty na tych histogramach, które prawdopodobnie świadczą o tym, że znaczna część zaznaczeń wraz z odpowiadającymi im obrazami pochodzi z tego podobnego procesu, gdzie albo obiekty występują w konkretnym miejscu, albo jest to seria klatek z okresu o niedużej zmienności przedstawianego otoczenia."
   ]
  },
  {
   "cell_type": "code",
   "execution_count": 31,
   "id": "e4262abb-df82-438f-9191-c66918721bc2",
   "metadata": {},
   "outputs": [
    {
     "data": {
      "text/plain": [
       "x_box_center\n",
       "0.42    850\n",
       "0.43    601\n",
       "0.74    558\n",
       "0.41    537\n",
       "0.73    533\n",
       "       ... \n",
       "0.09     47\n",
       "0.10     42\n",
       "0.97     34\n",
       "0.98     27\n",
       "0.02     21\n",
       "Name: count, Length: 97, dtype: int64"
      ]
     },
     "execution_count": 31,
     "metadata": {},
     "output_type": "execute_result"
    }
   ],
   "source": [
    "full_df.x_box_center.apply(lambda x: round(x, 2)).value_counts()"
   ]
  },
  {
   "cell_type": "markdown",
   "id": "3a93c649-48a4-48dd-9da9-6e3979113116",
   "metadata": {},
   "source": [
    "Widzmimy faktycznie dużo próbek dla wartości współrzędnej poziomej o wartości 0.41-0.43."
   ]
  },
  {
   "cell_type": "code",
   "execution_count": 32,
   "id": "4ebe2cc4-fae0-4752-81de-06626336446f",
   "metadata": {},
   "outputs": [
    {
     "data": {
      "text/plain": [
       "image_name\n",
       "PP02i    199\n",
       "nglov     48\n",
       "frame     33\n",
       "NVR-0     21\n",
       "helme     18\n",
       "        ... \n",
       "00545      1\n",
       "kp477      1\n",
       "kp787      1\n",
       "kp661      1\n",
       "kp357      1\n",
       "Name: count, Length: 824, dtype: int64"
      ]
     },
     "execution_count": 32,
     "metadata": {},
     "output_type": "execute_result"
    }
   ],
   "source": [
    "full_df.loc[(full_df.x_box_center <0.44) & (full_df.x_box_center > 0.4)].image_name.apply(lambda x: x.split('_')[0][:5]).value_counts()"
   ]
  },
  {
   "cell_type": "markdown",
   "id": "74ad3e06-4307-44ff-902c-3ae6d1bf19c3",
   "metadata": {},
   "source": [
    "Widzimy po nazwach plików, że faktycznie znaczna część z obrazów, które mają te wartości położeń zaznaczeń, ma nazwy zaczynające się podobnie. Nadmierna liczba próbek z tego samego procesu może mieć silną korelację, co może prowadzić do problemów z generalizacją modeli, które nauczą się cech tła zamiast cech obiektów, które mają wykrywać."
   ]
  },
  {
   "cell_type": "markdown",
   "id": "99ad65e3-f321-4fbf-a94d-00c09f7fb9fd",
   "metadata": {},
   "source": [
    "#### Liczba zanzaczeń\n",
    "\n",
    "Możemy jeszcze zobaczyć, jak rozkłada się liczba zaznaczeń per obraz w obu wersjach zbioru."
   ]
  },
  {
   "cell_type": "code",
   "execution_count": 33,
   "id": "b99f9ae1-d74a-4056-8da7-fb113a09b1f4",
   "metadata": {},
   "outputs": [
    {
     "data": {
      "image/png": "[encoded data removed]",
      "text/plain": [
       "<Figure size 640x480 with 1 Axes>"
      ]
     },
     "metadata": {},
     "output_type": "display_data"
    }
   ],
   "source": [
    "full_df.image_name.value_counts().value_counts().plot(style='.')\n",
    "plt.xticks(range(int(1), 14))\n",
    "plt.show()"
   ]
  },
  {
   "cell_type": "code",
   "execution_count": 34,
   "id": "42aec60c-dc56-4c83-94da-71ce33301bc6",
   "metadata": {},
   "outputs": [
    {
     "data": {
      "image/png": "[encoded data removed]",
      "text/plain": [
       "<Figure size 640x480 with 1 Axes>"
      ]
     },
     "metadata": {},
     "output_type": "display_data"
    }
   ],
   "source": [
    "same_aspect_df.image_name.value_counts().value_counts().plot(style='.')\n",
    "plt.xticks(range(int(1), 14))\n",
    "plt.show()"
   ]
  },
  {
   "cell_type": "markdown",
   "id": "245fab3d-8df9-4772-95a9-96c4da12a42e",
   "metadata": {},
   "source": [
    "Widzimy, że większość obrazów rzeczywiście ma niewiele zaznaczeń 1-5. Co ciekawe odsiewając obrazy o innych aspektach straciliśmy te, które miały bardzo duże liczby zaznaczeń, co może być przypadkiem brzegowym, który i tak byłby trudno dla modelu do rozpoznania."
   ]
  },
  {
   "cell_type": "markdown",
   "id": "576a6c74-fa46-4309-9997-19a119d8e306",
   "metadata": {},
   "source": [
    "## Podsumowanie\n",
    "\n",
    "1. Głównym problemem zbioru danych jest niezbalansowanie klas.\n",
    "2. Część obrazów jest w nietypowej rozdzielczości. Mają inne aspekt albo bardzo małe lub duże wymiary.\n",
    "3. Po odsianiu nietypowych obrazów niezbalansowanie klas się pogłębia.\n",
    "\n",
    "  #### Co można zrobić?\n",
    "1. Trzeba przejrzeć dostępne modele i zrewidować, czy problem balansu klas, wymiarów lub aspektu jest istotny.\n",
    "2. Edytować nietypowe obrazy, by przy pomocy ręcznych narzędzi cięcia i skalowania ustandaryzować je.\n",
    "3. W skrajnym przypadku poszerzyć zbiór o nowe ręcznie oznaczane próbki."
   ]
  },
  {
   "cell_type": "code",
   "execution_count": null,
   "id": "4e3b6298-9a00-4168-8eb0-1f3e144eb308",
   "metadata": {},
   "outputs": [],
   "source": []
  }
 ],
 "metadata": {
  "kernelspec": {
   "display_name": "Python 3 (ipykernel)",
   "language": "python",
   "name": "python3"
  },
  "language_info": {
   "codemirror_mode": {
    "name": "ipython",
    "version": 3
   },
   "file_extension": ".py",
   "mimetype": "text/x-python",
   "name": "python",
   "nbconvert_exporter": "python",
   "pygments_lexer": "ipython3",
   "version": "3.11.4"
  }
 },
 "nbformat": 4,
 "nbformat_minor": 5
}
